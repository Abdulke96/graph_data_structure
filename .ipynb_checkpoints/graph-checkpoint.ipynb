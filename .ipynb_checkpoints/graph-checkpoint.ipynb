{
 "cells": [
  {
   "cell_type": "markdown",
   "id": "bb70a534-60b0-4854-86e3-3f109911b864",
   "metadata": {},
   "source": [
    "<div style=\"text-align: center;\">\n",
    "    <h1 style=\"color: blue;\">Graph</h1>\n",
    "</div>\n",
    "\n",
    "## <span style=\"color: blue;\">Types of Graph</span>\n",
    "\n",
    "### <span style=\"color: teal;\">Directed Graph</span>\n",
    "A **directed graph** (or digraph) is a graph where edges have a direction. This means that an edge from node A to node B is not the same as an edge from node B to node A. Directed graphs are used to represent one-way relationships.\n"
   ]
  },
  {
   "cell_type": "markdown",
   "id": "c11c4a19-16e9-425a-bc6f-23f63641e991",
   "metadata": {},
   "source": [
    "\n",
    "### <span style=\"color: teal;\">Undirected Graph</span>\n",
    "An **undirected graph** is a graph where edges have no direction. The edge between node A and node B is identical to the edge between node B and node A. Undirected graphs are used to represent two-way relationships, such as friendship in social networks.\n"
   ]
  },
  {
   "cell_type": "code",
   "execution_count": null,
   "id": "96093b35-f184-41b2-9ef8-682dcaf1b1c1",
   "metadata": {},
   "outputs": [],
   "source": []
  }
 ],
 "metadata": {
  "kernelspec": {
   "display_name": "Python 3 (ipykernel)",
   "language": "python",
   "name": "python3"
  },
  "language_info": {
   "codemirror_mode": {
    "name": "ipython",
    "version": 3
   },
   "file_extension": ".py",
   "mimetype": "text/x-python",
   "name": "python",
   "nbconvert_exporter": "python",
   "pygments_lexer": "ipython3",
   "version": "3.12.4"
  }
 },
 "nbformat": 4,
 "nbformat_minor": 5
}
